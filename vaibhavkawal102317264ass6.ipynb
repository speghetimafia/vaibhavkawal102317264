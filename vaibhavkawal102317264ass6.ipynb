{
  "nbformat": 4,
  "nbformat_minor": 0,
  "metadata": {
    "colab": {
      "provenance": []
    },
    "kernelspec": {
      "name": "python3",
      "display_name": "Python 3"
    },
    "language_info": {
      "name": "python"
    }
  },
  "cells": [
    {
      "cell_type": "code",
      "execution_count": null,
      "metadata": {
        "id": "ctOAxJsJ4C5H"
      },
      "outputs": [],
      "source": [
        "# Q1: Plot Mathematical Functions\n",
        "import numpy as np\n",
        "import matplotlib.pyplot as plt\n",
        "\n",
        "M = float(input(\"Enter a value for M: \"))\n",
        "x = np.linspace(-10, 10, 400)\n",
        "\n",
        "y1 = M * x**2\n",
        "y2 = M * np.sin(x)\n",
        "\n",
        "plt.figure(figsize=(8, 6))\n",
        "plt.plot(x, y1, label='$y = Mx^2$', linestyle='-', color='blue')\n",
        "plt.plot(x, y2, label='$y = Msin(x)$', linestyle='--', color='red')\n",
        "plt.legend()\n",
        "plt.grid()\n",
        "plt.title(\"Mathematical Functions Plot\")\n",
        "plt.xlabel(\"x\")\n",
        "plt.ylabel(\"y\")\n",
        "plt.show()"
      ]
    },
    {
      "cell_type": "code",
      "source": [
        "# Q2: Seaborn Bar Plot\n",
        "import pandas as pd\n",
        "import seaborn as sns\n",
        "\n",
        "data = {'Subject': ['Math', 'Science', 'English', 'History', 'Computers'],\n",
        "        'Score': [85, 90, 78, 88, 95]}\n",
        "df = pd.DataFrame(data)\n",
        "\n",
        "plt.figure(figsize=(8, 6))\n",
        "ax = sns.barplot(x='Subject', y='Score', data=df, palette='husl')\n",
        "for p in ax.patches:\n",
        "    ax.annotate(format(p.get_height(), '.1f'),\n",
        "                (p.get_x() + p.get_width() / 2., p.get_height()),\n",
        "                ha='center', va='center',\n",
        "                xytext=(0, 10),\n",
        "                textcoords='offset points')\n",
        "plt.title(\"Scores of Five Subjects\")\n",
        "plt.xlabel(\"Subjects\")\n",
        "plt.ylabel(\"Scores\")\n",
        "plt.grid()\n",
        "plt.show()\n"
      ],
      "metadata": {
        "id": "nXQPXQpu4GM9"
      },
      "execution_count": null,
      "outputs": []
    },
    {
      "cell_type": "code",
      "source": [
        "# Q3: Random Data Generation and Subplots\n",
        "np.random.seed(12345)  # Replace with your roll number as seed\n",
        "data = np.random.randn(50)\n",
        "\n",
        "fig, axes = plt.subplots(2, 2, figsize=(10, 8))\n",
        "axes[0, 0].plot(np.cumsum(data), label='Cumulative Sum', color='blue')\n",
        "axes[0, 0].set_title(\"Cumulative Sum Plot\")\n",
        "axes[0, 0].grid()\n",
        "axes[0, 0].legend()\n",
        "\n",
        "axes[0, 1].scatter(range(50), data, color='red', alpha=0.6)\n",
        "axes[0, 1].set_title(\"Scatter Plot with Noise\")\n",
        "axes[0, 1].grid()\n",
        "\n",
        "plt.tight_layout()\n",
        "plt.show()"
      ],
      "metadata": {
        "id": "_ozOtJFK4Muc"
      },
      "execution_count": null,
      "outputs": []
    },
    {
      "cell_type": "code",
      "source": [
        "# Q4: Analyzing Company Sales Data\n",
        "df = pd.read_csv(\"https://raw.githubusercontent.com/AnjulaMehto/MCA/main/company_sales_data.csv\")\n",
        "\n",
        "# 1. Total Profit Line Plot\n",
        "plt.figure(figsize=(8, 6))\n",
        "plt.plot(df['month_number'], df['total_profit'], marker='o', linestyle='-', color='blue')\n",
        "plt.title(\"Total Profit Over Months\")\n",
        "plt.xlabel(\"Month\")\n",
        "plt.ylabel(\"Total Profit\")\n",
        "plt.grid()\n",
        "plt.show()\n",
        "\n",
        "# 2. Multi-line Plot for Product Sales\n",
        "plt.figure(figsize=(10, 6))\n",
        "for col in df.columns[1:-1]:  # Excluding month_number and total_profit\n",
        "    plt.plot(df['month_number'], df[col], marker='o', linestyle='--', label=col)\n",
        "plt.legend()\n",
        "plt.grid()\n",
        "plt.title(\"Product Sales Over Months\")\n",
        "plt.xlabel(\"Month\")\n",
        "plt.ylabel(\"Units Sold\")\n",
        "plt.show()\n",
        "\n",
        "# 3. Bar Chart for All Attributes\n",
        "df.drop(columns=['month_number']).plot(kind='bar', figsize=(12, 6))\n",
        "plt.title(\"Company Sales Data\")\n",
        "plt.xlabel(\"Month\")\n",
        "plt.ylabel(\"Values\")\n",
        "plt.grid()\n",
        "plt.show()"
      ],
      "metadata": {
        "id": "hm5BeE0g4T8m"
      },
      "execution_count": null,
      "outputs": []
    }
  ]
}