{
  "cells": [
    {
      "cell_type": "code",
      "execution_count": null,
      "id": "2924e4c8",
      "metadata": {
        "id": "2924e4c8"
      },
      "outputs": [],
      "source": [
        "# Import necessary libraries\n",
        "import numpy as np\n"
      ]
    },
    {
      "cell_type": "code",
      "execution_count": null,
      "id": "d29470bb",
      "metadata": {
        "id": "d29470bb"
      },
      "outputs": [],
      "source": [
        "# Q1: Create a 1D NumPy array and perform basic operations\n",
        "array = np.array([10, 20, 30, 40, 50])\n",
        "added_array = array + 2\n",
        "multiplied_array = array * 3\n",
        "divided_array = array / 2\n",
        "print(\"Array after adding 2 to each element:\", added_array)\n",
        "print(\"Array after multiplying each element by 3:\", multiplied_array)\n",
        "print(\"Array after dividing each element by 2:\", divided_array)\n"
      ]
    },
    {
      "cell_type": "code",
      "execution_count": null,
      "id": "ac7ec263",
      "metadata": {
        "id": "ac7ec263"
      },
      "outputs": [],
      "source": [
        "# Q2: Basic NumPy Array Operations\n",
        "arr = np.array([1, 2, 3, 6, 4, 5])\n",
        "reversed_arr = arr[::-1]\n",
        "print(\"Reversed array:\", reversed_arr)\n"
      ]
    },
    {
      "cell_type": "code",
      "execution_count": null,
      "id": "6b599a80",
      "metadata": {
        "id": "6b599a80"
      },
      "outputs": [],
      "source": [
        "x = np.array([1, 2, 3, 4, 5, 1, 2, 1, 1, 1])\n",
        "y = np.array([1, 1, 1, 2, 3, 4, 2, 4, 3, 3])\n",
        "most_frequent_x = np.bincount(x).argmax()\n",
        "most_frequent_y = np.bincount(y).argmax()\n",
        "indices_x = np.where(x == most_frequent_x)\n",
        "indices_y = np.where(y == most_frequent_y)\n",
        "print(\"Most frequent value in x:\", most_frequent_x, \"at indices\", indices_x)\n",
        "print(\"Most frequent value in y:\", most_frequent_y, \"at indices\", indices_y)\n"
      ]
    },
    {
      "cell_type": "code",
      "execution_count": null,
      "id": "6ad5f7f6",
      "metadata": {
        "id": "6ad5f7f6"
      },
      "outputs": [],
      "source": [
        "# Q3: Accessing elements in a 2D array\n",
        "arr_2d = np.array([[10, 20, 30], [40, 50, 60], [70, 80, 90]])\n",
        "print(\"Element at 1st row, 2nd column:\", arr_2d[0, 1])\n",
        "print(\"Element at 3rd row, 1st column:\", arr_2d[2, 0])\n"
      ]
    },
    {
      "cell_type": "code",
      "execution_count": null,
      "id": "f9ac757d",
      "metadata": {
        "id": "f9ac757d"
      },
      "outputs": [],
      "source": [
        "# Q4: Creating a 1D array and analyzing properties\n",
        "vaibhav_array = np.linspace(10, 100, 25)\n",
        "print(\"Dimensions of the array:\", vaibhav_array.ndim)\n",
        "print(\"Shape of the array:\", vaibhav_array.shape)\n",
        "print(\"Total elements in the array:\", vaibhav_array.size)\n",
        "print(\"Data type of each element:\", vaibhav_array.dtype)\n",
        "print(\"Total bytes consumed by the array:\", vaibhav_array.nbytes)\n"
      ]
    },
    {
      "cell_type": "code",
      "execution_count": null,
      "id": "86070d0b",
      "metadata": {
        "id": "86070d0b"
      },
      "outputs": [],
      "source": [
        "transposed_array = vaibhav_array.reshape(25, 1)\n",
        "print(\"Transposed array using reshape():\\n\", transposed_array)\n",
        "print(\"Can we use T attribute on a 1D array?\", vaibhav_array.ndim > 1)\n"
      ]
    },
    {
      "cell_type": "code",
      "execution_count": null,
      "id": "93063bbc",
      "metadata": {
        "id": "93063bbc"
      },
      "outputs": [],
      "source": [
        "# Q5: Creating a 2D array and computing statistics\n",
        "ucs420_vaibhav = np.array([[10, 20, 30, 40], [50, 60, 70, 80], [90, 15, 20, 35]])\n",
        "print(\"Mean:\", np.mean(ucs420_vaibhav))\n",
        "print(\"Median:\", np.median(ucs420_vaibhav))\n",
        "print(\"Max:\", np.max(ucs420_vaibhav))\n",
        "print(\"Min:\", np.min(ucs420_vaibhav))\n",
        "print(\"Unique elements:\", np.unique(ucs420_vaibhav))\n"
      ]
    },
    {
      "cell_type": "code",
      "execution_count": null,
      "id": "a202b790",
      "metadata": {
        "id": "a202b790"
      },
      "outputs": [],
      "source": [
        "reshaped_ucs420_vaibhav = ucs420_vaibhav.reshape(4, 3)\n",
        "print(\"Reshaped array (4x3):\\n\", reshaped_ucs420_vaibhav)\n"
      ]
    },
    {
      "cell_type": "code",
      "execution_count": null,
      "id": "f5330ff0",
      "metadata": {
        "id": "f5330ff0"
      },
      "outputs": [],
      "source": [
        "resized_ucs420_vaibhav = np.resize(ucs420_vaibhav, (2, 3))\n",
        "print(\"Resized array (2x3):\\n\", resized_ucs420_vaibhav)\n"
      ]
    }
  ],
  "metadata": {
    "colab": {
      "provenance": []
    }
  },
  "nbformat": 4,
  "nbformat_minor": 5
}