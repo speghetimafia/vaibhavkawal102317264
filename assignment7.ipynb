{
  "nbformat": 4,
  "nbformat_minor": 0,
  "metadata": {
    "colab": {
      "provenance": []
    },
    "kernelspec": {
      "name": "python3",
      "display_name": "Python 3"
    },
    "language_info": {
      "name": "python"
    }
  },
  "cells": [
    {
      "cell_type": "code",
      "source": [
        "import numpy as np\n",
        "import pandas as pd\n",
        "import matplotlib.pyplot as plt\n",
        "import seaborn as sns\n",
        "\n",
        "# Part I: Randomized Sales Data Generation\n",
        "roll_number = 12345  # Replace with your roll number\n",
        "np.random.seed(roll_number)\n",
        "months = [\"Jan\", \"Feb\", \"Mar\", \"Apr\", \"May\", \"Jun\", \"Jul\", \"Aug\", \"Sep\", \"Oct\", \"Nov\", \"Dec\"]\n",
        "categories = [\"Electronics\", \"Clothing\", \"Home & Kitchen\", \"Sports\"]\n",
        "\n",
        "sales_data = np.random.randint(1000, 5001, size=(12, 4))\n",
        "df = pd.DataFrame(sales_data, columns=categories, index=months)\n",
        "\n",
        "# Part II: Data Manipulation and Analysis\n",
        "print(df.head())\n",
        "print(df.describe())\n",
        "\n",
        "df[\"Total Sales\"] = df.sum(axis=1)\n",
        "df[\"Growth Rate\"] = df[\"Total Sales\"].pct_change() * 100\n",
        "\n",
        "if roll_number % 2 == 0:\n",
        "    df[\"Electronics\"] *= 0.9  # 10% discount\n",
        "else:\n",
        "    df[\"Clothing\"] *= 0.85  # 15% discount\n",
        "\n",
        "# Part III: Visualizations\n",
        "plt.figure(figsize=(10, 6))\n",
        "for category in categories:\n",
        "    plt.plot(df.index, df[category], marker='o', label=category)\n",
        "plt.legend()\n",
        "plt.title(\"Monthly Sales Trends\")\n",
        "plt.grid()\n",
        "plt.show()\n",
        "\n",
        "plt.figure(figsize=(8, 6))\n",
        "sns.boxplot(data=df[categories])\n",
        "plt.title(\"Sales Distribution\")\n",
        "plt.show()\n"
      ],
      "metadata": {
        "id": "RCWf2shMmV2M"
      },
      "execution_count": null,
      "outputs": []
    },
    {
      "cell_type": "code",
      "source": [
        "# Q2: Array Operations\n",
        "array = np.array([[1, -2, 3], [-4, 5, -6]])\n",
        "print(\"Absolute Values:\\n\", np.abs(array))\n",
        "print(\"25th Percentile:\", np.percentile(array, 25))\n",
        "print(\"50th Percentile:\", np.percentile(array, 50))\n",
        "print(\"75th Percentile:\", np.percentile(array, 75))\n",
        "print(\"Mean:\", np.mean(array))\n",
        "print(\"Median:\", np.median(array))\n",
        "print(\"Std Dev:\", np.std(array))"
      ],
      "metadata": {
        "id": "eY3jjHfCmZ6O"
      },
      "execution_count": null,
      "outputs": []
    },
    {
      "cell_type": "code",
      "source": [
        "\n",
        "# Q3: Floor, Ceiling, and Rounding Operations\n",
        "a = np.array([-1.8, -1.6, -0.5, 0.5, 1.6, 1.8, 3.0])\n",
        "print(\"Floor:\", np.floor(a))\n",
        "print(\"Ceiling:\", np.ceil(a))\n",
        "print(\"Truncated:\", np.trunc(a))\n",
        "print(\"Rounded:\", np.round(a))\n"
      ],
      "metadata": {
        "id": "9VVV7Curmbia"
      },
      "execution_count": null,
      "outputs": []
    },
    {
      "cell_type": "code",
      "source": [
        "\n",
        "\n",
        "# Q4: Swap Two Elements in a List\n",
        "def swap_list_elements(lst, pos1, pos2):\n",
        "    temp = lst[pos1]\n",
        "    lst[pos1] = lst[pos2]\n",
        "    lst[pos2] = temp\n",
        "    return lst\n",
        "\n",
        "sample_list = [1, 2, 3, 4, 5]\n",
        "print(\"Swapped List:\", swap_list_elements(sample_list, 1, 3))\n"
      ],
      "metadata": {
        "id": "GJL_fYsvmdf2"
      },
      "execution_count": null,
      "outputs": []
    },
    {
      "cell_type": "code",
      "source": [
        "\n",
        "\n",
        "# Q5: Swap Two Elements in a Set\n",
        "def swap_set_elements(s, el1, el2):\n",
        "    s_list = list(s)\n",
        "    idx1, idx2 = s_list.index(el1), s_list.index(el2)\n",
        "    s_list[idx1], s_list[idx2] = s_list[idx2], s_list[idx1]\n",
        "    return set(s_list)\n",
        "\n",
        "sample_set = {10, 20, 30, 40, 50}\n",
        "print(\"Swapped Set:\", swap_set_elements(sample_set, 20, 40))\n",
        "\n"
      ],
      "metadata": {
        "id": "7byzCOOD17Vr"
      },
      "execution_count": null,
      "outputs": []
    }
  ]
}